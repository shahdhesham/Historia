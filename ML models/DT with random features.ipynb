{
 "cells": [
  {
   "cell_type": "code",
   "execution_count": 2,
   "metadata": {},
   "outputs": [
    {
     "name": "stdout",
     "output_type": "stream",
     "text": [
      "\n",
      "[0.92372288 0.91392582 0.93727977 0.92631579 0.93072078 0.92631579\n",
      " 0.92551724]\n",
      "\n",
      "0.9279706856103732\n",
      "\n",
      "0.0077169102972663075\n"
     ]
    }
   ],
   "source": [
    "def crossval():\n",
    "    from sklearn.model_selection import cross_val_score\n",
    "    from sklearn.tree import DecisionTreeClassifier\n",
    "    from sklearn.datasets import make_classification\n",
    "\n",
    "    # Generating features matrix and target vector\n",
    "    X, y = make_classification(n_samples = 10000,\n",
    "                               n_features = 3,\n",
    "                               n_informative = 3,\n",
    "                               n_redundant = 0,\n",
    "                               n_classes = 2,\n",
    "                               random_state = 42)\n",
    "\n",
    "    dec_tree = DecisionTreeClassifier()\n",
    "\n",
    "    # Cross-validate model using accuracy\n",
    "    print(); print(cross_val_score(dec_tree, X, y, scoring=\"f1\", cv = 7))\n",
    "    mean_score = cross_val_score(dec_tree, X, y, scoring=\"f1\", cv = 7).mean()\n",
    "    std_score = cross_val_score(dec_tree, X, y, scoring=\"f1\", cv = 7).std()\n",
    "    print(); print(mean_score)\n",
    "    print(); print(std_score)\n",
    "\n",
    "crossval()"
   ]
  },
  {
   "cell_type": "code",
   "execution_count": null,
   "metadata": {},
   "outputs": [],
   "source": []
  },
  {
   "cell_type": "code",
   "execution_count": null,
   "metadata": {},
   "outputs": [],
   "source": []
  }
 ],
 "metadata": {
  "kernelspec": {
   "display_name": "Python 3",
   "language": "python",
   "name": "python3"
  },
  "language_info": {
   "codemirror_mode": {
    "name": "ipython",
    "version": 3
   },
   "file_extension": ".py",
   "mimetype": "text/x-python",
   "name": "python",
   "nbconvert_exporter": "python",
   "pygments_lexer": "ipython3",
   "version": "3.8.3"
  }
 },
 "nbformat": 4,
 "nbformat_minor": 4
}

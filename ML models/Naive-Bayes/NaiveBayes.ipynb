{
 "metadata": {
  "language_info": {
   "codemirror_mode": {
    "name": "ipython",
    "version": 3
   },
   "file_extension": ".py",
   "mimetype": "text/x-python",
   "name": "python",
   "nbconvert_exporter": "python",
   "pygments_lexer": "ipython3",
   "version": "3.8.3-final"
  },
  "orig_nbformat": 2,
  "kernelspec": {
   "name": "python3",
   "display_name": "Python 3",
   "language": "python"
  }
 },
 "nbformat": 4,
 "nbformat_minor": 2,
 "cells": [
  {
   "cell_type": "code",
   "execution_count": 1,
   "metadata": {},
   "outputs": [],
   "source": [
    "import os\n",
    "import numpy as np\n",
    "import cv2\n",
    "import matplotlib.pyplot as plt\n",
    "import pickle\n",
    "import random\n",
    "from sklearn.model_selection import train_test_split\n",
    "from sklearn import metrics\n",
    "from sklearn.naive_bayes import GaussianNB"
   ]
  },
  {
   "cell_type": "code",
   "execution_count": 2,
   "metadata": {},
   "outputs": [],
   "source": [
    "# datapath=\"C:/Users/20112/Desktop/keras-video-classification/keras-video-classification/data\"\n",
    "# LABELS = set([ \"qutub_minar\",\"iron_pillar\"])\n",
    "# print(\"[INFO] loading images...\")\n",
    "# imagePaths = list(paths.list_images(datapath))\n",
    "# data = []\n",
    "# labels = []"
   ]
  },
  {
   "cell_type": "code",
   "execution_count": 3,
   "metadata": {},
   "outputs": [],
   "source": [
    "# Read images and convert them into numpy array\n",
    "dir = \"C:/Users/20112/Desktop/keras-video-classification/keras-video-classification/data\"\n",
    "\n",
    "categories = ['qutub_minar','iron_pillar',\"alai_darwaza\"]\n",
    "\n",
    "data = []\n",
    "\n",
    "for category in categories:\n",
    "    path = os.path.join(dir,category)\n",
    "    label = categories.index(category)\n",
    "    \n",
    "    for img in os.listdir(path):\n",
    "        imgpath = os.path.join(path,img)\n",
    "        image2 = cv2.imread(imgpath,0)\n",
    "        image2 = cv2.resize(image2,(50,50))\n",
    "        image = np.array(image2).flatten()\n",
    "        \n",
    "        data.append([image,label])\n",
    "# save data of images into pickle file       \n",
    "pick_in = open('data1.pickle','wb')\n",
    "pickle.dump(data,pick_in)\n",
    "pick_in.close()"
   ]
  },
  {
   "cell_type": "code",
   "execution_count": 4,
   "metadata": {},
   "outputs": [],
   "source": [
    "# read data of images from the pickle file\n",
    "pick_in = open('data1.pickle','rb')\n",
    "data = pickle.load(pick_in)\n",
    "pick_in.close()"
   ]
  },
  {
   "cell_type": "code",
   "execution_count": 7,
   "metadata": {},
   "outputs": [
    {
     "output_type": "stream",
     "name": "stdout",
     "text": [
      "Accuracy For NB: 0.5570776255707762\nPrecision FOR NB: 0.6303811523234848\nRecall FOR NB: 0.5570776255707762\n"
     ]
    }
   ],
   "source": [
    "# train the data\n",
    "random.shuffle(data)\n",
    "features = []\n",
    "labels = []\n",
    "\n",
    "for feature, label in data:\n",
    "    features.append(feature)\n",
    "    labels.append(label)\n",
    "\n",
    "trainX, testX, trainY, testY=train_test_split(features,labels,test_size=0.25)\n",
    "model = GaussianNB()\n",
    "model.fit(trainX, trainY)\n",
    "\n",
    "y_pred = model.predict(testX)\n",
    "print(\"Accuracy For NB:\", metrics.accuracy_score(testY, y_pred))\n",
    "print(\"Precision FOR NB:\", metrics.precision_score(testY, y_pred, \n",
    "                                           pos_label='positive',\n",
    "                                           average='weighted'))\n",
    "print(\"Recall FOR NB:\", metrics.recall_score(testY, y_pred, \n",
    "                                           pos_label='positive',\n",
    "                                           average='weighted'))"
   ]
  },
  {
   "cell_type": "code",
   "execution_count": null,
   "metadata": {},
   "outputs": [],
   "source": []
  }
 ]
}
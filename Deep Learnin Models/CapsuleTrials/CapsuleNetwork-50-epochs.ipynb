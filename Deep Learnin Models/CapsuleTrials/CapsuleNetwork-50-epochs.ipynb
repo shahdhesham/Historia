{
 "cells": [
  {
   "cell_type": "code",
   "execution_count": 1,
   "metadata": {
    "colab": {},
    "colab_type": "code",
    "id": "p7ZB61JvCSYd"
   },
   "outputs": [],
   "source": [
    "import numpy as np\n",
    "from tqdm import tqdm\n",
    "import tensorflow as tf\n",
    "from datetime import datetime\n",
    "\n",
    "\n",
    "%load_ext tensorboard"
   ]
  },
  {
   "cell_type": "code",
   "execution_count": 3,
   "metadata": {
    "colab": {
     "base_uri": "https://localhost:8080/",
     "height": 34
    },
    "colab_type": "code",
    "id": "81x0frMUDfUR",
    "outputId": "0897822e-bd69-4eda-f21f-3e7a3ec34baa"
   },
   "outputs": [],
   "source": [
    "#device_name = tf.test.gpu_device_name()\n",
    "#if device_name != '/device:GPU:0':\n",
    " #   raise SystemError('GPU device not found')\n",
    "#print('Found GPU at: {}'.format(device_name))"
   ]
  },
  {
   "cell_type": "code",
   "execution_count": 4,
   "metadata": {
    "colab": {},
    "colab_type": "code",
    "id": "NAKFkKuTCSYn"
   },
   "outputs": [],
   "source": [
    "# Parameters Based on Paper\n",
    "epsilon = 1e-7\n",
    "m_plus = 0.9\n",
    "m_minus = 0.1\n",
    "lambda_ = 0.5\n",
    "alpha = 0.0005\n",
    "epochs = 50\n",
    "no_of_secondary_capsules = 10\n",
    "\n",
    "optimizer = tf.keras.optimizers.Adam()"
   ]
  },
  {
   "cell_type": "code",
   "execution_count": 5,
   "metadata": {
    "colab": {},
    "colab_type": "code",
    "id": "P-6K7DWeCSYw"
   },
   "outputs": [],
   "source": [
    "params = {\n",
    "    \"no_of_conv_kernels\": 256,\n",
    "    \"no_of_primary_capsules\": 32,\n",
    "    \"no_of_secondary_capsules\": 10,\n",
    "    \"primary_capsule_vector\": 8,\n",
    "    \"secondary_capsule_vector\": 16,\n",
    "    \"r\":3,\n",
    "}"
   ]
  },
  {
   "cell_type": "code",
   "execution_count": 6,
   "metadata": {
    "colab": {},
    "colab_type": "code",
    "id": "caLHZNu4CSY1"
   },
   "outputs": [],
   "source": [
    "checkpoint_path = './logs/model/capsule'\n",
    "\n",
    "stamp = datetime.now().strftime(\"%Y%m%d-%H%M%S\")\n",
    "\n",
    "logdir = './logs/func/%s' % stamp\n",
    "writer = tf.summary.create_file_writer(logdir)\n",
    "\n",
    "scalar_logdir = './logs/scalars/%s' % stamp\n",
    "file_writer = tf.summary.create_file_writer(scalar_logdir + \"/metrics\")"
   ]
  },
  {
   "cell_type": "code",
   "execution_count": 7,
   "metadata": {
    "colab": {
     "base_uri": "https://localhost:8080/",
     "height": 52
    },
    "colab_type": "code",
    "id": "ZQe1dcN6CSY6",
    "outputId": "8411c6df-05d0-432f-986c-a12621841ed3"
   },
   "outputs": [],
   "source": [
    "(X_train, y_train), (X_test , y_test)= tf.keras.datasets.mnist.load_data()"
   ]
  },
  {
   "cell_type": "code",
   "execution_count": 8,
   "metadata": {
    "colab": {},
    "colab_type": "code",
    "id": "s2ObVfipCSY_"
   },
   "outputs": [],
   "source": [
    "X_train = X_train / 255.0\n",
    "X_train = tf.cast(X_train, dtype=tf.float32)\n",
    "X_train = tf.expand_dims(X_train, axis=-1)\n",
    "\n",
    "X_test = X_test / 255.0\n",
    "X_test = tf.cast(X_test, dtype=tf.float32)\n",
    "X_test = tf.expand_dims(X_test, axis=-1)"
   ]
  },
  {
   "cell_type": "code",
   "execution_count": 9,
   "metadata": {
    "colab": {},
    "colab_type": "code",
    "id": "W-bhvXFnCSZE"
   },
   "outputs": [],
   "source": [
    "testing_dataset_size = X_test.shape[0]\n",
    "training_dataset_size = X_train.shape[0]"
   ]
  },
  {
   "cell_type": "code",
   "execution_count": 10,
   "metadata": {
    "colab": {},
    "colab_type": "code",
    "id": "4kP4-BNxCSZI"
   },
   "outputs": [],
   "source": [
    "dataset = tf.data.Dataset.from_tensor_slices((X_train, y_train))\n",
    "dataset = dataset.shuffle(buffer_size=len(dataset), reshuffle_each_iteration=True)\n",
    "dataset = dataset.batch(batch_size=64)"
   ]
  },
  {
   "cell_type": "code",
   "execution_count": 11,
   "metadata": {
    "colab": {},
    "colab_type": "code",
    "id": "sXB9-g8vCSZL"
   },
   "outputs": [],
   "source": [
    "testing = tf.data.Dataset.from_tensor_slices((X_test, y_test))\n",
    "testing = testing.batch(batch_size=64)"
   ]
  },
  {
   "cell_type": "code",
   "execution_count": 15,
   "metadata": {
    "colab": {},
    "colab_type": "code",
    "id": "S2rzxmIQCSZQ"
   },
   "outputs": [],
   "source": [
    "class CapsuleNetwork(tf.keras.Model):\n",
    "    def __init__(self, no_of_conv_kernels, no_of_primary_capsules, primary_capsule_vector, no_of_secondary_capsules, secondary_capsule_vector, r):\n",
    "        super(CapsuleNetwork, self).__init__()\n",
    "        self.no_of_conv_kernels = no_of_conv_kernels\n",
    "        self.no_of_primary_capsules = no_of_primary_capsules\n",
    "        self.primary_capsule_vector = primary_capsule_vector\n",
    "        self.no_of_secondary_capsules = no_of_secondary_capsules\n",
    "        self.secondary_capsule_vector = secondary_capsule_vector\n",
    "        self.r = r\n",
    "        \n",
    "        \n",
    "        with tf.name_scope(\"Variables\") as scope:\n",
    "            self.convolution = tf.keras.layers.Conv2D(self.no_of_conv_kernels, [9,9], strides=[1,1], name='ConvolutionLayer', activation='relu')\n",
    "            self.primary_capsule = tf.keras.layers.Conv2D(self.no_of_primary_capsules * self.primary_capsule_vector, [9,9], strides=[2,2], name=\"PrimaryCapsule\")\n",
    "            self.w = tf.Variable(tf.random_normal_initializer()(shape=[1, 1152, self.no_of_secondary_capsules, self.secondary_capsule_vector, self.primary_capsule_vector]), dtype=tf.float32, name=\"PoseEstimation\", trainable=True)\n",
    "            self.dense_1 = tf.keras.layers.Dense(units = 512, activation='relu')\n",
    "            self.dense_2 = tf.keras.layers.Dense(units = 1024, activation='relu')\n",
    "            self.dense_3 = tf.keras.layers.Dense(units = 784, activation='sigmoid', dtype='float32')\n",
    "        \n",
    "    def build(self, input_shape):\n",
    "        pass\n",
    "        \n",
    "    def squash(self, s):\n",
    "        with tf.name_scope(\"SquashFunction\") as scope:\n",
    "            s_norm = tf.norm(s, axis=-1, keepdims=True)\n",
    "            return tf.square(s_norm)/(1 + tf.square(s_norm)) * s/(s_norm + epsilon)\n",
    "    \n",
    "    @tf.function\n",
    "    def call(self, inputs):\n",
    "        input_x, y = inputs\n",
    "        # input_x.shape: (None, 28, 28, 1)\n",
    "        # y.shape: (None, 10)\n",
    "        \n",
    "        x = self.convolution(input_x) # x.shape: (None, 20, 20, 256)\n",
    "        x = self.primary_capsule(x) # x.shape: (None, 6, 6, 256)\n",
    "        \n",
    "        with tf.name_scope(\"CapsuleFormation\") as scope:\n",
    "            u = tf.reshape(x, (-1, self.no_of_primary_capsules * x.shape[1] * x.shape[2], 8)) # u.shape: (None, 1152, 8)\n",
    "            u = tf.expand_dims(u, axis=-2) # u.shape: (None, 1152, 1, 8)\n",
    "            u = tf.expand_dims(u, axis=-1) # u.shape: (None, 1152, 1, 8, 1)\n",
    "            u_hat = tf.matmul(self.w, u) # u_hat.shape: (None, 1152, 10, 16, 1)\n",
    "            u_hat = tf.squeeze(u_hat, [4]) # u_hat.shape: (None, 1152, 10, 16)\n",
    "\n",
    "        \n",
    "        with tf.name_scope(\"DynamicRouting\") as scope:\n",
    "            b = tf.zeros((input_x.shape[0], 1152, self.no_of_secondary_capsules, 1)) # b.shape: (None, 1152, 10, 1)\n",
    "            for i in range(self.r): # self.r = 3\n",
    "                c = tf.nn.softmax(b, axis=-2) # c.shape: (None, 1152, 10, 1)\n",
    "                s = tf.reduce_sum(tf.multiply(c, u_hat), axis=1, keepdims=True) # s.shape: (None, 1, 10, 16)\n",
    "                v = self.squash(s) # v.shape: (None, 1, 10, 16)\n",
    "                agreement = tf.squeeze(tf.matmul(tf.expand_dims(u_hat, axis=-1), tf.expand_dims(v, axis=-1), transpose_a=True), [4]) # agreement.shape: (None, 1152, 10, 1)\n",
    "                # Before matmul following intermediate shapes are present, they are not assigned to a variable but just for understanding the code.\n",
    "                # u_hat.shape (Intermediate shape) : (None, 1152, 10, 16, 1)\n",
    "                # v.shape (Intermediate shape): (None, 1, 10, 16, 1)\n",
    "                # Since the first parameter of matmul is to be transposed its shape becomes:(None, 1152, 10, 1, 16)\n",
    "                # Now matmul is performed in the last two dimensions, and others are broadcasted\n",
    "                # Before squeezing we have an intermediate shape of (None, 1152, 10, 1, 1)\n",
    "                b += agreement\n",
    "                \n",
    "        with tf.name_scope(\"Masking\") as scope:\n",
    "            y = tf.expand_dims(y, axis=-1) # y.shape: (None, 10, 1)\n",
    "            y = tf.expand_dims(y, axis=1) # y.shape: (None, 1, 10, 1)\n",
    "            mask = tf.cast(y, dtype=tf.float32) # mask.shape: (None, 1, 10, 1)\n",
    "            v_masked = tf.multiply(mask, v) # v_masked.shape: (None, 1, 10, 16)\n",
    "            \n",
    "        with tf.name_scope(\"Reconstruction\") as scope:\n",
    "            v_ = tf.reshape(v_masked, [-1, self.no_of_secondary_capsules * self.secondary_capsule_vector]) # v_.shape: (None, 160)\n",
    "            reconstructed_image = self.dense_1(v_) # reconstructed_image.shape: (None, 512)\n",
    "            reconstructed_image = self.dense_2(reconstructed_image) # reconstructed_image.shape: (None, 1024)\n",
    "            reconstructed_image = self.dense_3(reconstructed_image) # reconstructed_image.shape: (None, 784)\n",
    "        \n",
    "        return v, reconstructed_image\n",
    "\n",
    "    @tf.function\n",
    "    def predict_capsule_output(self, inputs):\n",
    "        x = self.convolution(inputs) # x.shape: (None, 20, 20, 256)\n",
    "        x = self.primary_capsule(x) # x.shape: (None, 6, 6, 256)\n",
    "        \n",
    "        with tf.name_scope(\"CapsuleFormation\") as scope:\n",
    "            u = tf.reshape(x, (-1, self.no_of_primary_capsules * x.shape[1] * x.shape[2], 8)) # u.shape: (None, 1152, 8)\n",
    "            u = tf.expand_dims(u, axis=-2) # u.shape: (None, 1152, 1, 8)\n",
    "            u = tf.expand_dims(u, axis=-1) # u.shape: (None, 1152, 1, 8, 1)\n",
    "            u_hat = tf.matmul(self.w, u) # u_hat.shape: (None, 1152, 10, 16, 1)\n",
    "            u_hat = tf.squeeze(u_hat, [4]) # u_hat.shape: (None, 1152, 10, 16)\n",
    "\n",
    "        \n",
    "        with tf.name_scope(\"DynamicRouting\") as scope:\n",
    "            b = tf.zeros((inputs.shape[0], 1152, self.no_of_secondary_capsules, 1)) # b.shape: (None, 1152, 10, 1)\n",
    "            for i in range(self.r): # self.r = 3\n",
    "                c = tf.nn.softmax(b, axis=-2) # c.shape: (None, 1152, 10, 1)\n",
    "                s = tf.reduce_sum(tf.multiply(c, u_hat), axis=1, keepdims=True) # s.shape: (None, 1, 10, 16)\n",
    "                v = self.squash(s) # v.shape: (None, 1, 10, 16)\n",
    "                agreement = tf.squeeze(tf.matmul(tf.expand_dims(u_hat, axis=-1), tf.expand_dims(v, axis=-1), transpose_a=True), [4]) # agreement.shape: (None, 1152, 10, 1)\n",
    "                # Before matmul following intermediate shapes are present, they are not assigned to a variable but just for understanding the code.\n",
    "                # u_hat.shape (Intermediate shape) : (None, 1152, 10, 16, 1)\n",
    "                # v.shape (Intermediate shape): (None, 1, 10, 16, 1)\n",
    "                # Since the first parameter of matmul is to be transposed its shape becomes:(None, 1152, 10, 1, 16)\n",
    "                # Now matmul is performed in the last two dimensions, and others are broadcasted\n",
    "                # Before squeezing we have an intermediate shape of (None, 1152, 10, 1, 1)\n",
    "                b += agreement\n",
    "        return v\n",
    "\n",
    "    @tf.function\n",
    "    def regenerate_image(self, inputs):\n",
    "        with tf.name_scope(\"Reconstruction\") as scope:\n",
    "            v_ = tf.reshape(inputs, [-1, self.no_of_secondary_capsules * self.secondary_capsule_vector]) # v_.shape: (None, 160)\n",
    "            reconstructed_image = self.dense_1(v_) # reconstructed_image.shape: (None, 512)\n",
    "            reconstructed_image = self.dense_2(reconstructed_image) # reconstructed_image.shape: (None, 1024)\n",
    "            reconstructed_image = self.dense_3(reconstructed_image) # reconstructed_image.shape: (None, 784)\n",
    "        return reconstructed_image"
   ]
  },
  {
   "cell_type": "code",
   "execution_count": 16,
   "metadata": {
    "colab": {
     "base_uri": "https://localhost:8080/",
     "height": 89
    },
    "colab_type": "code",
    "id": "HdCBmocACSZT",
    "outputId": "b6fe5ba7-76c2-430e-86a4-32df31c2323b"
   },
   "outputs": [
    {
     "name": "stdout",
     "output_type": "stream",
     "text": [
      "WARNING:tensorflow:Trace already enabled\n"
     ]
    }
   ],
   "source": [
    "tf.summary.trace_on(graph=True, profiler=True)"
   ]
  },
  {
   "cell_type": "code",
   "execution_count": 17,
   "metadata": {
    "colab": {},
    "colab_type": "code",
    "id": "S-lAG5TKCSZZ"
   },
   "outputs": [],
   "source": [
    "model = CapsuleNetwork(**params)"
   ]
  },
  {
   "cell_type": "code",
   "execution_count": 19,
   "metadata": {
    "colab": {},
    "colab_type": "code",
    "id": "In9Dx61jCSZd"
   },
   "outputs": [],
   "source": [
    "def safe_norm(v, axis=-1, epsilon=1e-7):\n",
    "    v_ = tf.reduce_sum(tf.square(v), axis = axis, keepdims=True)\n",
    "    return tf.sqrt(v_ + epsilon)"
   ]
  },
  {
   "cell_type": "code",
   "execution_count": 20,
   "metadata": {
    "colab": {},
    "colab_type": "code",
    "id": "i96YEEk9CSZg"
   },
   "outputs": [],
   "source": [
    "def loss_function(v, reconstructed_image, y, y_image):\n",
    "    prediction = safe_norm(v)\n",
    "    prediction = tf.reshape(prediction, [-1, no_of_secondary_capsules])\n",
    "    \n",
    "    left_margin = tf.square(tf.maximum(0.0, m_plus - prediction))\n",
    "    right_margin = tf.square(tf.maximum(0.0, prediction - m_minus))\n",
    "    \n",
    "    l = tf.add(y * left_margin, lambda_ * (1.0 - y) * right_margin)\n",
    "    \n",
    "    margin_loss = tf.reduce_mean(tf.reduce_sum(l, axis=-1))\n",
    "    \n",
    "    y_image_flat = tf.reshape(y_image, [-1, 784])\n",
    "    reconstruction_loss = tf.reduce_mean(tf.square(y_image_flat - reconstructed_image))\n",
    "    \n",
    "    loss = tf.add(margin_loss, alpha * reconstruction_loss)\n",
    "    \n",
    "    return loss"
   ]
  },
  {
   "cell_type": "code",
   "execution_count": 21,
   "metadata": {
    "colab": {},
    "colab_type": "code",
    "id": "ZTlvPfHsCSZk"
   },
   "outputs": [],
   "source": [
    "def train(x,y):\n",
    "    y_one_hot = tf.one_hot(y, depth=10)\n",
    "    with tf.GradientTape() as tape:\n",
    "        v, reconstructed_image = model([x, y_one_hot])\n",
    "        loss = loss_function(v, reconstructed_image, y_one_hot, x)\n",
    "    grad = tape.gradient(loss, model.trainable_variables)\n",
    "    optimizer.apply_gradients(zip(grad, model.trainable_variables))\n",
    "    return loss"
   ]
  },
  {
   "cell_type": "code",
   "execution_count": 22,
   "metadata": {
    "colab": {
     "base_uri": "https://localhost:8080/",
     "height": 193
    },
    "colab_type": "code",
    "id": "VeqGD39BCSZo",
    "outputId": "c3af5e68-2205-48cd-c448-2c2554bf0b3e"
   },
   "outputs": [
    {
     "name": "stdout",
     "output_type": "stream",
     "text": [
      "WARNING:tensorflow:From C:\\Users\\Rawan Khaled\\anaconda3\\lib\\site-packages\\tensorflow\\python\\ops\\summary_ops_v2.py:1259: stop (from tensorflow.python.eager.profiler) is deprecated and will be removed after 2020-07-01.\n",
      "Instructions for updating:\n",
      "use `tf.profiler.experimental.stop` instead.\n",
      "WARNING:tensorflow:From C:\\Users\\Rawan Khaled\\anaconda3\\lib\\site-packages\\tensorflow\\python\\ops\\summary_ops_v2.py:1259: save (from tensorflow.python.eager.profiler) is deprecated and will be removed after 2020-07-01.\n",
      "Instructions for updating:\n",
      "`tf.python.eager.profiler` has deprecated, use `tf.profiler` instead.\n",
      "WARNING:tensorflow:From C:\\Users\\Rawan Khaled\\anaconda3\\lib\\site-packages\\tensorflow\\python\\eager\\profiler.py:151: maybe_create_event_file (from tensorflow.python.eager.profiler) is deprecated and will be removed after 2020-07-01.\n",
      "Instructions for updating:\n",
      "`tf.python.eager.profiler` has deprecated, use `tf.profiler` instead.\n"
     ]
    }
   ],
   "source": [
    "_ = train(X_train[:32],y_train[:32])\n",
    "with writer.as_default():\n",
    "    tf.summary.trace_export(name=\"my_func_trace\", step=0, profiler_outdir=logdir)"
   ]
  },
  {
   "cell_type": "code",
   "execution_count": 23,
   "metadata": {
    "colab": {},
    "colab_type": "code",
    "id": "9yviNJHHCSZs"
   },
   "outputs": [],
   "source": [
    "tf.summary.trace_off()"
   ]
  },
  {
   "cell_type": "code",
   "execution_count": 24,
   "metadata": {
    "colab": {
     "base_uri": "https://localhost:8080/",
     "height": 330
    },
    "colab_type": "code",
    "id": "tf2mm1K_CSZv",
    "outputId": "e1a6dc9c-8843-47a8-f84d-cad305beda85"
   },
   "outputs": [
    {
     "name": "stdout",
     "output_type": "stream",
     "text": [
      "Model: \"capsule_network\"\n",
      "_________________________________________________________________\n",
      "Layer (type)                 Output Shape              Param #   \n",
      "=================================================================\n",
      "ConvolutionLayer (Conv2D)    multiple                  20992     \n",
      "_________________________________________________________________\n",
      "PrimaryCapsule (Conv2D)      multiple                  5308672   \n",
      "_________________________________________________________________\n",
      "dense (Dense)                multiple                  82432     \n",
      "_________________________________________________________________\n",
      "dense_1 (Dense)              multiple                  525312    \n",
      "_________________________________________________________________\n",
      "dense_2 (Dense)              multiple                  803600    \n",
      "=================================================================\n",
      "Total params: 8,215,568\n",
      "Trainable params: 8,215,568\n",
      "Non-trainable params: 0\n",
      "_________________________________________________________________\n"
     ]
    }
   ],
   "source": [
    "model.summary()"
   ]
  },
  {
   "cell_type": "code",
   "execution_count": 25,
   "metadata": {
    "colab": {},
    "colab_type": "code",
    "id": "k9MdXHBoCSZy"
   },
   "outputs": [],
   "source": [
    "def predict(model, x):\n",
    "    pred = safe_norm(model.predict_capsule_output(x))\n",
    "    pred = tf.squeeze(pred, [1])\n",
    "    return np.argmax(pred, axis=1)[:,0]"
   ]
  },
  {
   "cell_type": "code",
   "execution_count": 26,
   "metadata": {
    "colab": {},
    "colab_type": "code",
    "id": "603FUUezCSZ0"
   },
   "outputs": [],
   "source": [
    "checkpoint = tf.train.Checkpoint(model=model)"
   ]
  },
  {
   "cell_type": "code",
   "execution_count": 27,
   "metadata": {
    "colab": {
     "base_uri": "https://localhost:8080/",
     "height": 821
    },
    "colab_type": "code",
    "id": "rvV7wlg1CSZ3",
    "outputId": "5eab0cff-9236-4d0b-a273-87e599270b89"
   },
   "outputs": [
    {
     "data": {
      "text/plain": [
       "ERROR: Timed out waiting for TensorBoard to start. It may still be running as pid 33572."
      ]
     },
     "metadata": {},
     "output_type": "display_data"
    }
   ],
   "source": [
    "%tensorboard --logdir ./logs"
   ]
  },
  {
   "cell_type": "code",
   "execution_count": null,
   "metadata": {
    "colab": {
     "base_uri": "https://localhost:8080/",
     "height": 885
    },
    "colab_type": "code",
    "id": "N9sQf2eCCSZ8",
    "outputId": "e0e7af0a-54e5-4186-f10d-f93452f2a46b"
   },
   "outputs": [
    {
     "name": "stderr",
     "output_type": "stream",
     "text": [
      "Epoch 1/50: 100%|████████████████████| 938/938 [21:29<00:00,  1.38s/it, Loss :0.044775914 Accuracy :0.9871333333333333]\n",
      "Epoch 2/50: 100%|███████████████████████████████| 938/938 [21:37<00:00,  1.38s/it, Loss :0.016880563 Accuracy :0.98995]\n",
      "Epoch 3/50: 100%|████████████████████| 938/938 [21:21<00:00,  1.37s/it, Loss :0.012749424 Accuracy :0.9927833333333334]\n",
      "Epoch 4/50: 100%|████████████████████| 938/938 [20:58<00:00,  1.34s/it, Loss :0.010274881 Accuracy :0.9946833333333334]\n",
      "Epoch 5/50: 100%|███████████████████████████████| 938/938 [20:45<00:00,  1.33s/it, Loss :0.008054492 Accuracy :0.99475]\n",
      "Epoch 6/50: 100%|███████████████████| 938/938 [20:52<00:00,  1.34s/it, Loss :0.0077516134 Accuracy :0.9954833333333334]\n",
      "Epoch 7/50: 100%|████████████████████| 938/938 [21:00<00:00,  1.34s/it, Loss :0.006484712 Accuracy :0.9975166666666667]\n",
      "Epoch 8/50: 100%|███████████████████| 938/938 [21:14<00:00,  1.36s/it, Loss :0.0056551467 Accuracy :0.9967833333333334]\n",
      "Epoch 9/50: 100%|████████████████████| 938/938 [21:21<00:00,  1.37s/it, Loss :0.006016147 Accuracy :0.9980333333333333]\n",
      "Epoch 10/50: 100%|███████████████| 938/938 [21:32<00:00,  1.38s/it, Loss :0.004775371 Accuracy :0.998 Checkpoint Saved]\n",
      "Epoch 11/50: 100%|██████████████████| 938/938 [21:31<00:00,  1.38s/it, Loss :0.0047468203 Accuracy :0.9973333333333333]\n",
      "Epoch 12/50: 100%|█████████████████████████████| 938/938 [21:25<00:00,  1.37s/it, Loss :0.0042357957 Accuracy :0.99745]\n",
      "Epoch 13/50: 100%|██████████████████████████████| 938/938 [21:31<00:00,  1.38s/it, Loss :0.004669618 Accuracy :0.99785]\n",
      "Epoch 14/50: 100%|██████████████████| 938/938 [21:29<00:00,  1.37s/it, Loss :0.0042433436 Accuracy :0.9983166666666666]\n",
      "Epoch 15/50: 100%|██████████████████| 938/938 [21:34<00:00,  1.38s/it, Loss :0.0032426475 Accuracy :0.9981333333333333]\n",
      "Epoch 16/50: 100%|███████████████████| 938/938 [21:30<00:00,  1.38s/it, Loss :0.003998937 Accuracy :0.9985833333333334]\n",
      "Epoch 17/50: 100%|███████████████████| 938/938 [21:30<00:00,  1.38s/it, Loss :0.003660015 Accuracy :0.9988166666666667]\n",
      "Epoch 18/50: 100%|██████████████████| 938/938 [21:35<00:00,  1.38s/it, Loss :0.0031511146 Accuracy :0.9992833333333333]\n",
      "Epoch 19/50: 100%|███████████████████| 938/938 [21:41<00:00,  1.39s/it, Loss :0.003081196 Accuracy :0.9989166666666667]\n",
      "Epoch 20/50: 100%|██| 938/938 [21:47<00:00,  1.39s/it, Loss :0.003490831 Accuracy :0.9979666666666667 Checkpoint Saved]\n",
      "Epoch 21/50: 100%|██████████████████████████████| 938/938 [21:42<00:00,  1.39s/it, Loss :0.0033492565 Accuracy :0.9985]\n",
      "Epoch 22/50: 100%|███████████████████| 938/938 [21:51<00:00,  1.40s/it, Loss :0.002726603 Accuracy :0.9989833333333333]\n",
      "Epoch 23/50: 100%|██████████████████████████████| 938/938 [21:56<00:00,  1.40s/it, Loss :0.0027505083 Accuracy :0.9984]\n",
      "Epoch 24/50: 100%|█████████████████████████████| 938/938 [22:02<00:00,  1.41s/it, Loss :0.0028984486 Accuracy :0.99885]\n",
      "Epoch 25/50: 100%|█████████████████████████████| 938/938 [21:58<00:00,  1.41s/it, Loss :0.0025960451 Accuracy :0.99765]\n",
      "Epoch 26/50: 100%|██████████████████| 938/938 [21:56<00:00,  1.40s/it, Loss :0.0030491669 Accuracy :0.9985666666666667]\n",
      "Epoch 27/50: 100%|███████████████████| 938/938 [21:59<00:00,  1.41s/it, Loss :0.002332079 Accuracy :0.9985666666666667]\n",
      "Epoch 28/50: 100%|██████████████████████████████| 938/938 [22:39<00:00,  1.45s/it, Loss :0.0024963673 Accuracy :0.9994]\n",
      "Epoch 29/50:  22%|██████████████▊                                                    | 207/938 [04:11<15:47,  1.30s/it]"
     ]
    }
   ],
   "source": [
    "losses = []\n",
    "accuracy = []\n",
    "for i in range(1, epochs+1, 1):\n",
    "\n",
    "    loss = 0\n",
    "    with tqdm(total=len(dataset)) as pbar:\n",
    "        \n",
    "        description = \"Epoch \" + str(i) + \"/\" + str(epochs)\n",
    "        pbar.set_description_str(description)\n",
    "\n",
    "        for X_batch, y_batch in dataset:\n",
    "\n",
    "            loss += train(X_batch,y_batch)\n",
    "            pbar.update(1)\n",
    "\n",
    "        loss /= len(dataset)\n",
    "        losses.append(loss.numpy())\n",
    "        \n",
    "        training_sum = 0\n",
    "\n",
    "        print_statement = \"Loss :\" + str(loss.numpy()) + \" Evaluating Accuracy ...\"\n",
    "        pbar.set_postfix_str(print_statement)\n",
    "\n",
    "        for X_batch, y_batch in dataset:\n",
    "            training_sum += sum(predict(model, X_batch)==y_batch.numpy())\n",
    "        accuracy.append(training_sum/training_dataset_size)\n",
    "\n",
    "        with file_writer.as_default():\n",
    "            tf.summary.scalar('Loss', data=loss.numpy(), step=i)\n",
    "            tf.summary.scalar('Accuracy', data=accuracy[-1], step=i)\n",
    "        \n",
    "        print_statement = \"Loss :\" + str(loss.numpy()) + \" Accuracy :\" + str(accuracy[-1])\n",
    "\n",
    "        if i % 10 == 0:\n",
    "            print_statement += ' Checkpoint Saved'\n",
    "            checkpoint.save(checkpoint_path)\n",
    "        \n",
    "        pbar.set_postfix_str(print_statement)"
   ]
  },
  {
   "cell_type": "code",
   "execution_count": null,
   "metadata": {},
   "outputs": [],
   "source": [
    "test_sum = 0\n",
    "for X_batch, y_batch in testing:\n",
    "    test_sum += sum(predict(model, X_batch)==y_batch.numpy())\n",
    "print(test_sum/testing_dataset_size)"
   ]
  },
  {
   "cell_type": "code",
   "execution_count": null,
   "metadata": {},
   "outputs": [],
   "source": []
  }
 ],
 "metadata": {
  "accelerator": "GPU",
  "colab": {
   "collapsed_sections": [],
   "name": "CapsuleNetwork.ipynb",
   "provenance": []
  },
  "kernelspec": {
   "display_name": "Python 3",
   "language": "python",
   "name": "python3"
  },
  "language_info": {
   "codemirror_mode": {
    "name": "ipython",
    "version": 3
   },
   "file_extension": ".py",
   "mimetype": "text/x-python",
   "name": "python",
   "nbconvert_exporter": "python",
   "pygments_lexer": "ipython3",
   "version": "3.8.3"
  }
 },
 "nbformat": 4,
 "nbformat_minor": 4
}
